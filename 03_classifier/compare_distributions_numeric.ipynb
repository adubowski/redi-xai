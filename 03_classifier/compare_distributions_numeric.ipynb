{
  "nbformat": 4,
  "nbformat_minor": 0,
  "metadata": {
    "colab": {
      "name": "compare_distributions_numeric.ipynb",
      "provenance": [],
      "collapsed_sections": [],
      "include_colab_link": true
    },
    "kernelspec": {
      "name": "python3",
      "display_name": "Python 3"
    },
    "language_info": {
      "name": "python"
    }
  },
  "cells": [
    {
      "cell_type": "markdown",
      "metadata": {
        "id": "view-in-github",
        "colab_type": "text"
      },
      "source": [
        "<a href=\"https://colab.research.google.com/github/adubowski/redi-xai/blob/main/compare_distributions_numeric.ipynb\" target=\"_parent\"><img src=\"https://colab.research.google.com/assets/colab-badge.svg\" alt=\"Open In Colab\"/></a>"
      ]
    },
    {
      "cell_type": "markdown",
      "metadata": {
        "id": "eN9-dkG_rQc5"
      },
      "source": [
        "## Compare the distributions of predictions numerically\n",
        "This notebook contains code to quantify the extent that class predictions (benign/malignant) change when we alter the images by: 1) inpainting random sections of control images, 2) inpainting (thus removing) coloured patches, and 3) artificially inserting coloured patches into images of malignant lesions."
      ]
    },
    {
      "cell_type": "markdown",
      "metadata": {
        "id": "Et2-CWuxr11n"
      },
      "source": [
        "### Initialise Libraries & Paths"
      ]
    },
    {
      "cell_type": "code",
      "metadata": {
        "id": "PsALivqyJIVm"
      },
      "source": [
        "import numpy as np\n",
        "from google.colab import drive\n",
        "import os\n",
        "from os.path import join as oj\n",
        "from datetime import datetime\n",
        "\n",
        "from scipy.spatial import distance\n",
        "from scipy.stats import wasserstein_distance, entropy\n",
        "from sklearn import metrics\n",
        "import warnings\n",
        "\n",
        "import matplotlib\n",
        "from matplotlib import pyplot as plt\n",
        "plt.style.use('seaborn')"
      ],
      "execution_count": null,
      "outputs": []
    },
    {
      "cell_type": "code",
      "metadata": {
        "colab": {
          "base_uri": "https://localhost:8080/"
        },
        "id": "0aDBSInKJT3v",
        "outputId": "a29c14c5-e44b-4a2a-ea8c-936ac2f60802"
      },
      "source": [
        "drive.mount(\"/content/drive\")\n",
        "dir_path = \"/content/drive/MyDrive/redi-detecting-cheating\"\n",
        "data_path = oj(dir_path, \"data\")\n",
        "\n",
        "test_path  = oj(dir_path, \"models\", \"test_files_used.txt\")\n",
        "\n",
        "patch_run_name = \"test_20210608-083437_inpaint_coloured_patches_gmcnn_s224x224_gc32\"\n",
        "no_patch_run_name = \"test_20210608-083438_inpaint_no_patches_gmcnn_s224x224_gc32_randmask-ellipse_seed-1\""
      ],
      "execution_count": null,
      "outputs": [
        {
          "output_type": "stream",
          "name": "stdout",
          "text": [
            "Mounted at /content/drive\n"
          ]
        }
      ]
    },
    {
      "cell_type": "markdown",
      "metadata": {
        "id": "TI15fwYqr5vg"
      },
      "source": [
        "### Load Predictions & Indices\n",
        "The probability output of the classifier for each image in the test set has been saved previously under each of the experimental conditions. Load these from file."
      ]
    },
    {
      "cell_type": "code",
      "metadata": {
        "id": "Z5WSGpICLybM"
      },
      "source": [
        "targets_test_unaltered, preds_test_unaltered  = np.load(oj(data_path, 'saved-tensors', 'preds_test_unaltered.npz')).values()\n",
        "_, preds_inpainted_patches =    np.load(oj(data_path, 'saved-tensors', 'preds_inpainted_patches.npz')).values()\n",
        "_, preds_inpainted_no_patches = np.load(oj(data_path, 'saved-tensors', 'preds_inpainted_no_patches.npz')).values()\n",
        "_, preds_malignant_patches = np.load(oj(data_path, 'saved-tensors', 'preds_malignant_patches.npz')).values()\n",
        "\n",
        "# Load the output predictions from the classifier retrained on inpainted examples.\n",
        "_, preds_test_unaltered_v2  = np.load(oj(data_path, 'saved-tensors', 'preds_test_unaltered_v2.npz')).values()\n",
        "_, preds_inpainted_patches_v2 =    np.load(oj(data_path, 'saved-tensors', 'preds_inpainted_patches_v2.npz')).values()\n",
        "_, preds_inpainted_no_patches_v2 = np.load(oj(data_path, 'saved-tensors', 'preds_inpainted_no_patches_v2.npz')).values()\n",
        "_, preds_malignant_patches_v2 = np.load(oj(data_path, 'saved-tensors', 'preds_malignant_patches_v2.npz')).values()"
      ],
      "execution_count": null,
      "outputs": []
    },
    {
      "cell_type": "code",
      "metadata": {
        "id": "YILpufEVUcHV"
      },
      "source": [
        "test_path_patches     = oj(dir_path, \"data\", \"test\", patch_run_name, \"inpainted\")\n",
        "test_path_no_patches  = oj(dir_path, \"data\", \"test\", no_patch_run_name, \"inpainted\")\n",
        "\n",
        "path_malignant_patches = oj(dir_path, \"data\", \"malignant-patches\", \"manually-adjusted\")"
      ],
      "execution_count": null,
      "outputs": []
    },
    {
      "cell_type": "markdown",
      "metadata": {
        "id": "ZC_MMwQvUsxD"
      },
      "source": [
        "##### Get lists of filenames in the whole test set and in the experimental subsets."
      ]
    },
    {
      "cell_type": "code",
      "metadata": {
        "id": "Oxn6PjD4MCFp"
      },
      "source": [
        "# List of all files in the test set used to get predictions from the models.\n",
        "test_fpaths = open(test_path, 'rt').read().splitlines()\n",
        "test_files = [os.path.basename(file) for file in test_fpaths] # Extract the filename from the full filepath.\n",
        "test_files = sorted(test_files) # Order by file name (image number)\n",
        "\n",
        "def sort_filenames(dataset_path):\n",
        "  return sorted(os.listdir(dataset_path))\n",
        "\n",
        "patch_files = sort_filenames(test_path_patches)\n",
        "no_patch_files = sort_filenames(test_path_no_patches)\n",
        "malignant_patch_files = sort_filenames(path_malignant_patches)\n",
        "malignant_patch_files = [f + '.jpg' for f in \n",
        "                         np.unique([fname[:12] for fname in malignant_patch_files])]"
      ],
      "execution_count": null,
      "outputs": []
    },
    {
      "cell_type": "markdown",
      "metadata": {
        "id": "BsInGP69U21k"
      },
      "source": [
        "##### Find the indices of the whole test set which correspond to the files of the experimental subsets."
      ]
    },
    {
      "cell_type": "code",
      "metadata": {
        "id": "HYnKDZX1Ue-y"
      },
      "source": [
        "patch_ind = [file in patch_files for file in test_files]   # Get a boolean list of whether the test file has a patch.\n",
        "no_patch_ind = [file in no_patch_files for file in test_files]\n",
        "# Get a list indices for the relevant malignant files.\n",
        "mal_idx = [i for f1 in malignant_patch_files  \n",
        "              for i,f2 in enumerate(test_files) \n",
        "                if f1 == f2]"
      ],
      "execution_count": null,
      "outputs": []
    },
    {
      "cell_type": "markdown",
      "metadata": {
        "id": "VxMPt7pLuLLP"
      },
      "source": [
        "### Compare Binned Distributions\n",
        "First bin the predicted probabilities into histograms with 10 bins (as in the visualisations). Then use Jensen-Shannon distance, Euclidean distance and Wasserstein Distance to compare the distributions."
      ]
    },
    {
      "cell_type": "code",
      "metadata": {
        "id": "FwAYS_KHFbAL"
      },
      "source": [
        "def euclid_normalised(hist1, hist2):\n",
        "  h1 = hist1/sum(hist1)\n",
        "  h2 = hist2/sum(hist2)\n",
        "  return distance.euclidean(h1, h2)\n",
        "\n",
        "def compare_histograms(probs_unaltered, probs_altered, exp_id='', bins=10):\n",
        "  hist1,_ = np.histogram(probs_unaltered, bins=bins, range = (0,1))\n",
        "  hist2,_ = np.histogram(probs_altered, bins=bins, range = (0,1))\n",
        "\n",
        "  bin_loc = np.linspace(0, 1, bins)\n",
        "\n",
        "  js = distance.jensenshannon(hist1, hist2, base=2)\n",
        "  ed = euclid_normalised(hist1, hist2)\n",
        "  wd = wasserstein_distance(bin_loc, bin_loc, hist1, hist2)\n",
        "\n",
        "  dist_dict = {\n",
        "      'Euclidean (Bins) | ' + exp_id:       ed,\n",
        "      'Jensen-Shannon (Bins) | ' + exp_id:  js,\n",
        "      'Wasserstein (Bins) | ' + exp_id:     wd\n",
        "  }\n",
        "  return dist_dict"
      ],
      "execution_count": null,
      "outputs": []
    },
    {
      "cell_type": "markdown",
      "metadata": {
        "id": "hMc6zcqKsijV"
      },
      "source": [
        "### Compare Individual Predictions\n",
        "Use the probability estimates for each image to compare between the altered & unaltered versions and then aggregate to get an overall assessment of the change. Using Euclidean distance, Manhattan distance, Mean Absolute Deviation, Root Mean Square Deviation, Mean Jenson-Shannon distance, and Mean KL Divergence."
      ]
    },
    {
      "cell_type": "code",
      "metadata": {
        "id": "0_GXFxbTImAL"
      },
      "source": [
        "\"\"\" All of the following functions expect two numpy arrays of equal length containing probabilities to compare.\"\"\"\n",
        "\n",
        "def js_distance(probs_unaltered, probs_altered):\n",
        "  # The probability distributions to compare are [p_malignant, p_benign] for the unaltered images vs. the altered images.\n",
        "  P = np.array([probs_unaltered, 1-probs_unaltered])\n",
        "  Q = np.array([probs_altered, 1-probs_altered])\n",
        "\n",
        "  # Calculate JS distance. Base 2 is used since it is bounded by 1 and easier to interpret.\n",
        "  js = distance.jensenshannon(P, Q, base=2) \n",
        "  # Occasionally NAN values arise from the JS function if the probabilities being compared are very similar.\n",
        "  # Set these NAN values to 0 when the original probabilities are close enough.\n",
        "  js[np.isnan(js) & (abs(probs_unaltered-probs_altered) < 0.0005)] = 0.0\n",
        "\n",
        "  if np.sum(np.isnan(js)) > 0: \n",
        "    warnings.warn('NAN values remaining in the Jensen-Shannon vector.')\n",
        "\n",
        "  return js\n",
        "\n",
        "def kl_divergence(probs_baseline, probs_comparison):\n",
        "  P = np.array([probs_baseline, 1-probs_baseline])\n",
        "  Q = np.array([probs_comparison, 1-probs_comparison])\n",
        "\n",
        "  return entropy(P, Q, base=2)\n",
        "\n",
        "def calc_signed_distances(probs_unaltered, probs_altered):\n",
        "  distance = probs_altered - probs_unaltered\n",
        "  neg_distance = distance[distance < 0]\n",
        "  pos_distance = distance[distance >= 0]\n",
        "  return len(pos_distance), np.mean(pos_distance), len(neg_distance), np.mean(neg_distance)\n",
        "\n",
        "def calc_portion_crossed_bound(probs_unaltered, probs_altered, dec_bound = 0.4):\n",
        "  crossed_bound = sum((probs_altered >= dec_bound) & (probs_unaltered < dec_bound))\n",
        "  return crossed_bound, crossed_bound / len(probs_unaltered)\n",
        "\n",
        "def compare_probabilities(probs_unaltered, probs_altered, exp_id=''):\n",
        "  if len(probs_unaltered) != len(probs_altered):\n",
        "    raise ValueError(\"Prob vectors are not the same length!\")\n",
        "  euclid = distance.euclidean(probs_unaltered, probs_altered)\n",
        "  manhat = distance.cityblock(probs_unaltered, probs_altered)\n",
        "  mae = metrics.mean_absolute_error(probs_unaltered, probs_altered)\n",
        "  n_pos, mean_pos, n_neg, mean_neg = calc_signed_distances(probs_unaltered, probs_altered)\n",
        "  mse = metrics.mean_squared_error(probs_unaltered, probs_altered)\n",
        "  rmse = np.sqrt(mse)\n",
        "  mjs = np.mean(js_distance(probs_unaltered, probs_altered))\n",
        "  mkl = np.mean(kl_divergence(probs_unaltered, probs_altered))\n",
        "  crossed_bound_pos, crossed_bound_rate_pos = calc_portion_crossed_bound(probs_unaltered, probs_altered)\n",
        "  crossed_bound_neg, crossed_bound_rate_neg = calc_portion_crossed_bound(probs_altered, probs_unaltered)\n",
        "  dist_dict = {\n",
        "      'Vector length | ' + exp_id: len(probs_unaltered),\n",
        "      'Euclidean Vector | ' + exp_id: euclid,\n",
        "      'Manhattan Vector | ' + exp_id: manhat,\n",
        "      'Mean Absolute Deviation | ' + exp_id: mae,\n",
        "      'Mean Square Deviation | ' + exp_id: mse,\n",
        "      'N Positive Distance | ' + exp_id: n_pos,\n",
        "      'Mean Positive Distance | ' + exp_id: mean_pos,\n",
        "      'N Negative Distance | ' + exp_id: n_neg,\n",
        "      'Mean Negative Distance | ' + exp_id: mean_neg,\n",
        "      'Crossed Bound Positive | ' + exp_id: crossed_bound_pos,\n",
        "      'Crossed Bound Rate Positive | ' + exp_id: crossed_bound_rate_pos,\n",
        "      'Crossed Bound Negative | ' + exp_id: crossed_bound_neg,\n",
        "      'Crossed Bound Rate Negative | ' + exp_id: crossed_bound_rate_neg,\n",
        "      'Root Mean Square Deviation | ' + exp_id: rmse,\n",
        "      'Mean Jensen-Shannon Distance | ' + exp_id: mjs\n",
        "      # 'Mean KL Divergence | ' + exp_id: mkl\n",
        "  }\n",
        "  return dist_dict"
      ],
      "execution_count": null,
      "outputs": []
    },
    {
      "cell_type": "markdown",
      "metadata": {
        "id": "fXuj6fU8vocM"
      },
      "source": [
        "### Run all comparisons"
      ]
    },
    {
      "cell_type": "code",
      "metadata": {
        "id": "zzXKVsMXJHMo"
      },
      "source": [
        "def compare_distributions(probs_unaltered, probs_altered, exp_id=''):\n",
        "  \"\"\" Expects two numpy arrays (vectors) of equal length containing probabilities to compare.\n",
        "  Returns a dict where the keys are the names of the statistics, and the values are the computed values. \n",
        "  exp_id is an optional string to append to the keys of the returned dictionary.  \n",
        "  \"\"\"\n",
        "  hist_distances = compare_histograms(probs_unaltered, probs_altered, exp_id=exp_id, bins=10)\n",
        "  prob_distances = compare_probabilities(probs_unaltered, probs_altered, exp_id=exp_id)\n",
        "\n",
        "  return {**hist_distances, **prob_distances}"
      ],
      "execution_count": null,
      "outputs": []
    },
    {
      "cell_type": "markdown",
      "metadata": {
        "id": "2eY9FTxdvLEf"
      },
      "source": [
        "##### Run the comparison for each of the experiments and save the results to one master dictionary."
      ]
    },
    {
      "cell_type": "code",
      "metadata": {
        "id": "53n1VqmbKQmT",
        "colab": {
          "base_uri": "https://localhost:8080/"
        },
        "outputId": "300b5db4-3709-4cde-9787-1024cd76765a"
      },
      "source": [
        "dist_np = compare_distributions(preds_test_unaltered[no_patch_ind], preds_inpainted_no_patches, exp_id='No Patches')\n",
        "dist_np_v2 = compare_distributions(preds_test_unaltered_v2[no_patch_ind], preds_inpainted_no_patches_v2, exp_id='No Patches (Retrained)')\n",
        "dist_p = compare_distributions(preds_test_unaltered[patch_ind], preds_inpainted_patches, exp_id='Inpainted Patches')\n",
        "dist_p_v2 = compare_distributions(preds_test_unaltered_v2[patch_ind], preds_inpainted_patches_v2, exp_id='Inpainted Patches (Retrained)')\n",
        "dist_mp = compare_distributions(preds_test_unaltered[mal_idx], preds_malignant_patches, exp_id='Malignant Inserted Patches')\n",
        "dist_mp_v2 = compare_distributions(preds_test_unaltered_v2[mal_idx], preds_malignant_patches_v2, exp_id='Malignant Inserted Patches (Retrained)')\n",
        "\n",
        "distances = {**dist_np, **dist_np_v2, **dist_p, **dist_p_v2, **dist_mp, **dist_mp_v2}"
      ],
      "execution_count": null,
      "outputs": [
        {
          "output_type": "stream",
          "name": "stderr",
          "text": [
            "/usr/local/lib/python3.7/dist-packages/scipy/spatial/distance.py:1296: RuntimeWarning: invalid value encountered in sqrt\n",
            "  return np.sqrt(js / 2.0)\n",
            "/usr/local/lib/python3.7/dist-packages/scipy/spatial/distance.py:1296: RuntimeWarning: invalid value encountered in sqrt\n",
            "  return np.sqrt(js / 2.0)\n"
          ]
        }
      ]
    },
    {
      "cell_type": "markdown",
      "metadata": {
        "id": "YG3fVRq-J158"
      },
      "source": [
        "#####Write to file"
      ]
    },
    {
      "cell_type": "code",
      "metadata": {
        "id": "W0OsfhUrT9_9"
      },
      "source": [
        "results_file = oj(dir_path, 'models', 'distances_' + datetime.now().strftime('%Y%m%d%H%M%S') + '.txt')\n",
        "with open(results_file, 'w') as file:\n",
        "    for k,v in distances.items():\n",
        "      file.write(k + \":\" + str(v) + \"\\n\")"
      ],
      "execution_count": null,
      "outputs": []
    },
    {
      "cell_type": "markdown",
      "metadata": {
        "id": "NJ2XlX4DHTt5"
      },
      "source": [
        "### Complementary Plots\n",
        "Plot boxplots for the absolute change in probability, kl divergence, jensen shannon distance."
      ]
    },
    {
      "cell_type": "code",
      "metadata": {
        "id": "kJ2sp-4kI_gh"
      },
      "source": [
        "def plot_boxplots(axes, probs_baseline, probs_comparison, pos, label):\n",
        "  abs_dev = abs(probs_baseline - probs_comparison)\n",
        "  js = js_distance(probs_baseline, probs_comparison)\n",
        "  kl = kl_divergence(probs_baseline, probs_comparison)\n",
        "\n",
        "  axes[0].boxplot(abs_dev, positions = [pos], labels=[label])\n",
        "  axes[1].boxplot(js, positions = [pos], labels=[label])\n",
        "  axes[2].boxplot(kl, positions = [pos], labels=[label])\n",
        "\n",
        "  axes[0].set_ylabel('Absolute Deviation', fontsize=14)\n",
        "  axes[1].set_ylabel('JS Distance', fontsize=14)\n",
        "  axes[2].set_ylabel('KL Divergence', fontsize=14)"
      ],
      "execution_count": null,
      "outputs": []
    },
    {
      "cell_type": "code",
      "metadata": {
        "colab": {
          "base_uri": "https://localhost:8080/",
          "height": 799
        },
        "id": "NliSKbZDJ-wG",
        "outputId": "15725083-3c9a-40b8-b1be-7a2bdb1fc685"
      },
      "source": [
        "fig, axes = plt.subplots(3, 1, figsize = (12,10), sharex=True)\n",
        "\n",
        "plot_boxplots(axes, preds_test_unaltered[no_patch_ind], preds_inpainted_no_patches, 0, label = 'Inpainting No Patches')\n",
        "plot_boxplots(axes, preds_test_unaltered_v2[no_patch_ind], preds_inpainted_no_patches_v2, 1, label = 'No Patches (Retrained)')\n",
        "plot_boxplots(axes, preds_inpainted_patches, preds_test_unaltered[patch_ind], 2, label = 'Inpainted Patches')\n",
        "plot_boxplots(axes, preds_inpainted_patches_v2, preds_test_unaltered_v2[patch_ind], 3, label = 'Inpainted Patches (Retrained)')\n",
        "plot_boxplots(axes, preds_test_unaltered[mal_idx], preds_malignant_patches, 4, label = 'Malignant Inserted Patches')\n",
        "plot_boxplots(axes, preds_test_unaltered_v2[mal_idx], preds_malignant_patches_v2, 5, label = 'Malignant Patches (Retrained)')\n",
        "\n",
        "axes[2].tick_params(axis='x', rotation=45, labelsize=14)\n",
        "plt.tight_layout()"
      ],
      "execution_count": null,
      "outputs": [
        {
          "output_type": "stream",
          "name": "stderr",
          "text": [
            "/usr/local/lib/python3.7/dist-packages/scipy/spatial/distance.py:1296: RuntimeWarning: invalid value encountered in sqrt\n",
            "  return np.sqrt(js / 2.0)\n",
            "/usr/local/lib/python3.7/dist-packages/scipy/spatial/distance.py:1296: RuntimeWarning: invalid value encountered in sqrt\n",
            "  return np.sqrt(js / 2.0)\n"
          ]
        },
        {
          "output_type": "display_data",
          "data": {
            "image/png": "[encoded data removed]",
            "text/plain": [
              "<Figure size 864x720 with 3 Axes>"
            ]
          },
          "metadata": {
            "needs_background": "light"
          }
        }
      ]
    }
  ]
}
